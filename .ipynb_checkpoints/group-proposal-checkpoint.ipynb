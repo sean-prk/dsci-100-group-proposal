{
 "cells": [
  {
   "cell_type": "markdown",
   "id": "ec1588e6-cd20-4bd8-a3db-b5ff453a069e",
   "metadata": {},
   "source": [
    "# Rice Classification: Classifying a Grain of Rice with Neutral Physical Properties\n",
    "### DSCI100: Group 124 Project Proposal\n",
    "\n",
    "\n",
    "##### Sean Park (66350992)\n",
    "#####\n",
    "#####\n",
    "#####"
   ]
  },
  {
   "cell_type": "code",
   "execution_count": 7,
   "id": "ca782cc8-d388-4dfa-8b13-d6581280a617",
   "metadata": {},
   "outputs": [],
   "source": [
    "options(repr.matrix.max.rows = 6)\n",
    "library(tidyverse)"
   ]
  },
  {
   "cell_type": "markdown",
   "id": "570c0eda-76fd-4516-86d8-5d7ed7f2ee33",
   "metadata": {
    "tags": []
   },
   "source": [
    "### Introduction\n",
    "\n",
    "#### -> About the dataset\n",
    "Different types of rice are classified biologically by their origin; however, these types can also usually be identified by by their physical measurements and properties. In our dataset, \"riceClassification.csv\", there are more than 15,000 observations of rice grains with specified physical measurements that classify as either the rice type \"**Gonen** (indicated by the factor 0)\" or \"**Jasmine** (indicated by the factor 1)\". This data is derived from another rice observation dataset, specifically modified for efficient binary classification."
   ]
  },
  {
   "cell_type": "code",
   "execution_count": 8,
   "id": "05a04194-118d-4f81-ba9d-05f73c447f8c",
   "metadata": {},
   "outputs": [
    {
     "name": "stderr",
     "output_type": "stream",
     "text": [
      "\u001b[1mRows: \u001b[22m\u001b[34m18185\u001b[39m \u001b[1mColumns: \u001b[22m\u001b[34m12\u001b[39m\n",
      "\u001b[36m──\u001b[39m \u001b[1mColumn specification\u001b[22m \u001b[36m────────────────────────────────────────────────────────\u001b[39m\n",
      "\u001b[1mDelimiter:\u001b[22m \",\"\n",
      "\u001b[32mdbl\u001b[39m (12): id, Area, MajorAxisLength, MinorAxisLength, Eccentricity, ConvexAr...\n",
      "\n",
      "\u001b[36mℹ\u001b[39m Use `spec()` to retrieve the full column specification for this data.\n",
      "\u001b[36mℹ\u001b[39m Specify the column types or set `show_col_types = FALSE` to quiet this message.\n"
     ]
    },
    {
     "data": {
      "text/html": [
       "<table class=\"dataframe\">\n",
       "<caption>A tibble: 18185 × 12</caption>\n",
       "<thead>\n",
       "\t<tr><th scope=col>id</th><th scope=col>Area</th><th scope=col>MajorAxisLength</th><th scope=col>MinorAxisLength</th><th scope=col>Eccentricity</th><th scope=col>ConvexArea</th><th scope=col>EquivDiameter</th><th scope=col>Extent</th><th scope=col>Perimeter</th><th scope=col>Roundness</th><th scope=col>AspectRation</th><th scope=col>Class</th></tr>\n",
       "\t<tr><th scope=col>&lt;dbl&gt;</th><th scope=col>&lt;dbl&gt;</th><th scope=col>&lt;dbl&gt;</th><th scope=col>&lt;dbl&gt;</th><th scope=col>&lt;dbl&gt;</th><th scope=col>&lt;dbl&gt;</th><th scope=col>&lt;dbl&gt;</th><th scope=col>&lt;dbl&gt;</th><th scope=col>&lt;dbl&gt;</th><th scope=col>&lt;dbl&gt;</th><th scope=col>&lt;dbl&gt;</th><th scope=col>&lt;fct&gt;</th></tr>\n",
       "</thead>\n",
       "<tbody>\n",
       "\t<tr><td>1</td><td>4537</td><td>92.22932</td><td>64.01277</td><td>0.7199162</td><td>4677</td><td>76.00452</td><td>0.6575362</td><td>273.085</td><td>0.7645096</td><td>1.440796</td><td>1</td></tr>\n",
       "\t<tr><td>2</td><td>2872</td><td>74.69188</td><td>51.40045</td><td>0.7255527</td><td>3015</td><td>60.47102</td><td>0.7130089</td><td>208.317</td><td>0.8316582</td><td>1.453137</td><td>1</td></tr>\n",
       "\t<tr><td>3</td><td>3048</td><td>76.29316</td><td>52.04349</td><td>0.7312109</td><td>3132</td><td>62.29634</td><td>0.7591532</td><td>210.012</td><td>0.8684336</td><td>1.465950</td><td>1</td></tr>\n",
       "\t<tr><td>⋮</td><td>⋮</td><td>⋮</td><td>⋮</td><td>⋮</td><td>⋮</td><td>⋮</td><td>⋮</td><td>⋮</td><td>⋮</td><td>⋮</td><td>⋮</td></tr>\n",
       "\t<tr><td>18183</td><td>6365</td><td>154.7771</td><td>52.90808</td><td>0.9397603</td><td>6531</td><td>90.02316</td><td>0.5612875</td><td>342.253</td><td>0.6828318</td><td>2.925396</td><td>0</td></tr>\n",
       "\t<tr><td>18184</td><td>5960</td><td>151.3979</td><td>51.47460</td><td>0.9404271</td><td>6189</td><td>87.11204</td><td>0.4923992</td><td>343.371</td><td>0.6352269</td><td>2.941216</td><td>0</td></tr>\n",
       "\t<tr><td>18185</td><td>6134</td><td>153.0820</td><td>51.59061</td><td>0.9415000</td><td>6283</td><td>88.37450</td><td>0.4899752</td><td>338.613</td><td>0.6722741</td><td>2.967245</td><td>0</td></tr>\n",
       "</tbody>\n",
       "</table>\n"
      ],
      "text/latex": [
       "A tibble: 18185 × 12\n",
       "\\begin{tabular}{llllllllllll}\n",
       " id & Area & MajorAxisLength & MinorAxisLength & Eccentricity & ConvexArea & EquivDiameter & Extent & Perimeter & Roundness & AspectRation & Class\\\\\n",
       " <dbl> & <dbl> & <dbl> & <dbl> & <dbl> & <dbl> & <dbl> & <dbl> & <dbl> & <dbl> & <dbl> & <fct>\\\\\n",
       "\\hline\n",
       "\t 1 & 4537 & 92.22932 & 64.01277 & 0.7199162 & 4677 & 76.00452 & 0.6575362 & 273.085 & 0.7645096 & 1.440796 & 1\\\\\n",
       "\t 2 & 2872 & 74.69188 & 51.40045 & 0.7255527 & 3015 & 60.47102 & 0.7130089 & 208.317 & 0.8316582 & 1.453137 & 1\\\\\n",
       "\t 3 & 3048 & 76.29316 & 52.04349 & 0.7312109 & 3132 & 62.29634 & 0.7591532 & 210.012 & 0.8684336 & 1.465950 & 1\\\\\n",
       "\t ⋮ & ⋮ & ⋮ & ⋮ & ⋮ & ⋮ & ⋮ & ⋮ & ⋮ & ⋮ & ⋮ & ⋮\\\\\n",
       "\t 18183 & 6365 & 154.7771 & 52.90808 & 0.9397603 & 6531 & 90.02316 & 0.5612875 & 342.253 & 0.6828318 & 2.925396 & 0\\\\\n",
       "\t 18184 & 5960 & 151.3979 & 51.47460 & 0.9404271 & 6189 & 87.11204 & 0.4923992 & 343.371 & 0.6352269 & 2.941216 & 0\\\\\n",
       "\t 18185 & 6134 & 153.0820 & 51.59061 & 0.9415000 & 6283 & 88.37450 & 0.4899752 & 338.613 & 0.6722741 & 2.967245 & 0\\\\\n",
       "\\end{tabular}\n"
      ],
      "text/markdown": [
       "\n",
       "A tibble: 18185 × 12\n",
       "\n",
       "| id &lt;dbl&gt; | Area &lt;dbl&gt; | MajorAxisLength &lt;dbl&gt; | MinorAxisLength &lt;dbl&gt; | Eccentricity &lt;dbl&gt; | ConvexArea &lt;dbl&gt; | EquivDiameter &lt;dbl&gt; | Extent &lt;dbl&gt; | Perimeter &lt;dbl&gt; | Roundness &lt;dbl&gt; | AspectRation &lt;dbl&gt; | Class &lt;fct&gt; |\n",
       "|---|---|---|---|---|---|---|---|---|---|---|---|\n",
       "| 1 | 4537 | 92.22932 | 64.01277 | 0.7199162 | 4677 | 76.00452 | 0.6575362 | 273.085 | 0.7645096 | 1.440796 | 1 |\n",
       "| 2 | 2872 | 74.69188 | 51.40045 | 0.7255527 | 3015 | 60.47102 | 0.7130089 | 208.317 | 0.8316582 | 1.453137 | 1 |\n",
       "| 3 | 3048 | 76.29316 | 52.04349 | 0.7312109 | 3132 | 62.29634 | 0.7591532 | 210.012 | 0.8684336 | 1.465950 | 1 |\n",
       "| ⋮ | ⋮ | ⋮ | ⋮ | ⋮ | ⋮ | ⋮ | ⋮ | ⋮ | ⋮ | ⋮ | ⋮ |\n",
       "| 18183 | 6365 | 154.7771 | 52.90808 | 0.9397603 | 6531 | 90.02316 | 0.5612875 | 342.253 | 0.6828318 | 2.925396 | 0 |\n",
       "| 18184 | 5960 | 151.3979 | 51.47460 | 0.9404271 | 6189 | 87.11204 | 0.4923992 | 343.371 | 0.6352269 | 2.941216 | 0 |\n",
       "| 18185 | 6134 | 153.0820 | 51.59061 | 0.9415000 | 6283 | 88.37450 | 0.4899752 | 338.613 | 0.6722741 | 2.967245 | 0 |\n",
       "\n"
      ],
      "text/plain": [
       "      id    Area MajorAxisLength MinorAxisLength Eccentricity ConvexArea\n",
       "1     1     4537 92.22932        64.01277        0.7199162    4677      \n",
       "2     2     2872 74.69188        51.40045        0.7255527    3015      \n",
       "3     3     3048 76.29316        52.04349        0.7312109    3132      \n",
       "⋮     ⋮     ⋮    ⋮               ⋮               ⋮            ⋮         \n",
       "18183 18183 6365 154.7771        52.90808        0.9397603    6531      \n",
       "18184 18184 5960 151.3979        51.47460        0.9404271    6189      \n",
       "18185 18185 6134 153.0820        51.59061        0.9415000    6283      \n",
       "      EquivDiameter Extent    Perimeter Roundness AspectRation Class\n",
       "1     76.00452      0.6575362 273.085   0.7645096 1.440796     1    \n",
       "2     60.47102      0.7130089 208.317   0.8316582 1.453137     1    \n",
       "3     62.29634      0.7591532 210.012   0.8684336 1.465950     1    \n",
       "⋮     ⋮             ⋮         ⋮         ⋮         ⋮            ⋮    \n",
       "18183 90.02316      0.5612875 342.253   0.6828318 2.925396     0    \n",
       "18184 87.11204      0.4923992 343.371   0.6352269 2.941216     0    \n",
       "18185 88.37450      0.4899752 338.613   0.6722741 2.967245     0    "
      ]
     },
     "metadata": {},
     "output_type": "display_data"
    }
   ],
   "source": [
    "rice_data <- read_csv(\"data/riceClassification.csv\") |>\n",
    "    mutate(Class = as_factor(Class))\n",
    "rice_data"
   ]
  },
  {
   "cell_type": "markdown",
   "id": "921946df-8ba1-4d50-9968-ef3e1c65bc5f",
   "metadata": {},
   "source": [
    "#### -> Our objective\n",
    "We will build a classifier that classifies a rice grain as either Gonen or Jasmine given its physical properties. Using this classifier, we want to predict the class of a new rice observation that we will create to be seemingly neutral; the physical properties and attributes of this new observation will be decided by taking the average for that measurement from the original dataset. "
   ]
  },
  {
   "cell_type": "code",
   "execution_count": 13,
   "id": "0b9a3b1c-3791-48e0-b0d9-a491e2340d01",
   "metadata": {},
   "outputs": [
    {
     "name": "stderr",
     "output_type": "stream",
     "text": [
      "Warning message in mean.default(.x[[i]], ...):\n",
      "“argument is not numeric or logical: returning NA”\n"
     ]
    },
    {
     "data": {
      "text/html": [
       "<table class=\"dataframe\">\n",
       "<caption>A tibble: 1 × 12</caption>\n",
       "<thead>\n",
       "\t<tr><th scope=col>id</th><th scope=col>Area</th><th scope=col>MajorAxisLength</th><th scope=col>MinorAxisLength</th><th scope=col>Eccentricity</th><th scope=col>ConvexArea</th><th scope=col>EquivDiameter</th><th scope=col>Extent</th><th scope=col>Perimeter</th><th scope=col>Roundness</th><th scope=col>AspectRation</th><th scope=col>Class</th></tr>\n",
       "\t<tr><th scope=col>&lt;dbl&gt;</th><th scope=col>&lt;dbl&gt;</th><th scope=col>&lt;dbl&gt;</th><th scope=col>&lt;dbl&gt;</th><th scope=col>&lt;dbl&gt;</th><th scope=col>&lt;dbl&gt;</th><th scope=col>&lt;dbl&gt;</th><th scope=col>&lt;dbl&gt;</th><th scope=col>&lt;dbl&gt;</th><th scope=col>&lt;dbl&gt;</th><th scope=col>&lt;dbl&gt;</th><th scope=col>&lt;dbl&gt;</th></tr>\n",
       "</thead>\n",
       "<tbody>\n",
       "\t<tr><td>9093</td><td>7036.493</td><td>151.6808</td><td>59.80785</td><td>0.9154064</td><td>7225.818</td><td>94.13295</td><td>0.6166528</td><td>351.6069</td><td>0.7079983</td><td>2.599081</td><td>NA</td></tr>\n",
       "</tbody>\n",
       "</table>\n"
      ],
      "text/latex": [
       "A tibble: 1 × 12\n",
       "\\begin{tabular}{llllllllllll}\n",
       " id & Area & MajorAxisLength & MinorAxisLength & Eccentricity & ConvexArea & EquivDiameter & Extent & Perimeter & Roundness & AspectRation & Class\\\\\n",
       " <dbl> & <dbl> & <dbl> & <dbl> & <dbl> & <dbl> & <dbl> & <dbl> & <dbl> & <dbl> & <dbl> & <dbl>\\\\\n",
       "\\hline\n",
       "\t 9093 & 7036.493 & 151.6808 & 59.80785 & 0.9154064 & 7225.818 & 94.13295 & 0.6166528 & 351.6069 & 0.7079983 & 2.599081 & NA\\\\\n",
       "\\end{tabular}\n"
      ],
      "text/markdown": [
       "\n",
       "A tibble: 1 × 12\n",
       "\n",
       "| id &lt;dbl&gt; | Area &lt;dbl&gt; | MajorAxisLength &lt;dbl&gt; | MinorAxisLength &lt;dbl&gt; | Eccentricity &lt;dbl&gt; | ConvexArea &lt;dbl&gt; | EquivDiameter &lt;dbl&gt; | Extent &lt;dbl&gt; | Perimeter &lt;dbl&gt; | Roundness &lt;dbl&gt; | AspectRation &lt;dbl&gt; | Class &lt;dbl&gt; |\n",
       "|---|---|---|---|---|---|---|---|---|---|---|---|\n",
       "| 9093 | 7036.493 | 151.6808 | 59.80785 | 0.9154064 | 7225.818 | 94.13295 | 0.6166528 | 351.6069 | 0.7079983 | 2.599081 | NA |\n",
       "\n"
      ],
      "text/plain": [
       "  id   Area     MajorAxisLength MinorAxisLength Eccentricity ConvexArea\n",
       "1 9093 7036.493 151.6808        59.80785        0.9154064    7225.818  \n",
       "  EquivDiameter Extent    Perimeter Roundness AspectRation Class\n",
       "1 94.13295      0.6166528 351.6069  0.7079983 2.599081     NA   "
      ]
     },
     "metadata": {},
     "output_type": "display_data"
    }
   ],
   "source": [
    "new_obs <- rice_data |>\n",
    "    map(cols = Area:Class, mean) |>  \n",
    "                #take mean of every possible predictor variable\n",
    "    as_tibble() \n",
    "                #use results as the measurements for new observation\n",
    "new_obs"
   ]
  },
  {
   "cell_type": "markdown",
   "id": "94da37a0-9e03-4c62-ba41-aae14dc41abe",
   "metadata": {},
   "source": [
    "Our project will be surrounding the following question: **Which class, either Gonen or Jasmine, will this \"neutral\" observation be classified as?**\n",
    "\n",
    "Will our new observation, whose variables are determined as the collective averages of those in the dataset, be classified purely by chance, or is there other statistical factors that influence the prediction in the classifier and/or in the original dataset?"
   ]
  },
  {
   "cell_type": "markdown",
   "id": "b6a6451a-797c-4b55-b42c-2bb6eb9904a2",
   "metadata": {},
   "source": [
    "### Preliminary exploratory data analysis\n",
    "\n",
    "..."
   ]
  },
  {
   "cell_type": "markdown",
   "id": "01eaf6ab-867a-48c8-88bc-5f9bb572d6f8",
   "metadata": {},
   "source": [
    "### Methods\n",
    "\n",
    "#### -> Our plan:\n",
    "\n",
    "##### I. Preprocessing the data + creating the new observation\n",
    "As shown above, the data is already tidy to begin training our classifier. We plan to use all variables in the dataset except 'id' (unique identifier for each observation) and 'Class' (our target variable), since every variable is a distinct physical measurement that seems to have a difference in distribution among the two classes; however, in the project, we will find a way to filter any predictors, if necessary, to improve the accuracy of our classifier.\n",
    "\n",
    "##### II. Training the classifier\n",
    "\n",
    "Steps:\n",
    "\n",
    "1. Split the data into a training set and testing set with a ratio of 75:25 using initial_split().\n",
    "\n",
    "2. Filter the predictors to give our classifier\n",
    "\n",
    "2. Split the training set for **10-fold cross validation**. ***\n",
    "3. **Create a recipe** as well as a **tuning model**, ready to adjust the k parameter.\n",
    "4. **Add the recipe and the tuning model** to a workflow(), and test for **50 different k parameters** using tune_grid(). ***\n",
    "5. **Find the k parameter** that gives the highest accuracy in the cross-validation.\n",
    "6. Using the new k parameter, **retrain the classifier** (using a new k-specific model).\n",
    "\n",
    "# UP TO HERE ***********\n",
    "\n",
    "7. Select which predictors we will use with the following steps:\n",
    "* Test each variable as a sole predictor in the classifier (with the defined k parameter), choose the variable that gives the highest accuracy to be our first choice.\n",
    "* Test each of the remaining variables to act as a predicctor along with our first choice, and choose the one that gives the highest accuracy.\n",
    "* Repeat this process until adding an extra predictor does not supply a higher accuracy.\n",
    "\n",
    "8. Redesign our classifier using the selected k value and predictors.\n",
    "\n",
    "8. Predict the new observation using our final fit() model.\n",
    "\n",
    "*** Since our data is large (more than 15,000 observations), we decided to cross-validate with more subsets and test for more values of k in order to create a more accurate classifier."
   ]
  },
  {
   "cell_type": "markdown",
   "id": "29da0b91-98f9-4ed9-acef-d23d932f283f",
   "metadata": {},
   "source": [
    "### Expected outcomes and significance\n",
    "\n",
    "..."
   ]
  },
  {
   "cell_type": "code",
   "execution_count": null,
   "id": "8f4f3045-44b8-4f69-aa1e-365a3c03c00e",
   "metadata": {},
   "outputs": [],
   "source": []
  }
 ],
 "metadata": {
  "kernelspec": {
   "display_name": "R",
   "language": "R",
   "name": "ir"
  },
  "language_info": {
   "codemirror_mode": "r",
   "file_extension": ".r",
   "mimetype": "text/x-r-source",
   "name": "R",
   "pygments_lexer": "r",
   "version": "4.1.3"
  }
 },
 "nbformat": 4,
 "nbformat_minor": 5
}
